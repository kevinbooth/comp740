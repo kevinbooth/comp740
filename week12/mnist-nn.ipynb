{
 "cells": [
  {
   "cell_type": "markdown",
   "metadata": {},
   "source": [
    "Example adapted from [this online post](https://nextjournal.com/gkoehler/digit-recognition-with-keras)."
   ]
  },
  {
   "cell_type": "code",
   "execution_count": 1,
   "metadata": {},
   "outputs": [
    {
     "name": "stderr",
     "output_type": "stream",
     "text": [
      "Using TensorFlow backend.\n"
     ]
    },
    {
     "name": "stdout",
     "output_type": "stream",
     "text": [
      "Downloading data from https://s3.amazonaws.com/img-datasets/mnist.npz\n",
      "11493376/11490434 [==============================] - 10s 1us/step\n"
     ]
    }
   ],
   "source": [
    "from keras.datasets import mnist\n",
    "from keras.utils import np_utils\n",
    "\n",
    "(X_train, y_train), (X_test, y_test) = mnist.load_data()"
   ]
  },
  {
   "cell_type": "markdown",
   "metadata": {},
   "source": [
    "reshape the data"
   ]
  },
  {
   "cell_type": "code",
   "execution_count": 2,
   "metadata": {},
   "outputs": [],
   "source": [
    "num_training = X_train.shape[0]\n",
    "num_test = X_test.shape[0]\n",
    "width = X_train.shape[1]\n",
    "height = X_train.shape[2]\n",
    "num_pixels = width * height\n",
    "X_flat_train = X_train.reshape(X_train.shape[0], num_pixels).astype('float32')\n",
    "X_flat_test = X_test.reshape(X_test.shape[0], num_pixels).astype('float32')\n",
    "X_flat_train /= 255\n",
    "X_flat_test /= 255"
   ]
  },
  {
   "cell_type": "code",
   "execution_count": 3,
   "metadata": {},
   "outputs": [
    {
     "data": {
      "text/plain": [
       "(60000, 784)"
      ]
     },
     "execution_count": 3,
     "metadata": {},
     "output_type": "execute_result"
    }
   ],
   "source": [
    "X_flat_train.shape"
   ]
  },
  {
   "cell_type": "code",
   "execution_count": 4,
   "metadata": {},
   "outputs": [
    {
     "data": {
      "text/plain": [
       "(10000, 784)"
      ]
     },
     "execution_count": 4,
     "metadata": {},
     "output_type": "execute_result"
    }
   ],
   "source": [
    "X_flat_test.shape"
   ]
  },
  {
   "cell_type": "markdown",
   "metadata": {},
   "source": [
    "Prepare target values using 1-hot encoding"
   ]
  },
  {
   "cell_type": "code",
   "execution_count": 5,
   "metadata": {},
   "outputs": [],
   "source": [
    "y_encoded_train = np_utils.to_categorical(y_train)\n",
    "y_encoded_test = np_utils.to_categorical(y_test)"
   ]
  },
  {
   "cell_type": "code",
   "execution_count": 6,
   "metadata": {},
   "outputs": [
    {
     "data": {
      "text/plain": [
       "(60000, 10)"
      ]
     },
     "execution_count": 6,
     "metadata": {},
     "output_type": "execute_result"
    }
   ],
   "source": [
    "y_encoded_train.shape"
   ]
  },
  {
   "cell_type": "markdown",
   "metadata": {},
   "source": [
    "build a one layer dense network"
   ]
  },
  {
   "cell_type": "code",
   "execution_count": 7,
   "metadata": {},
   "outputs": [],
   "source": [
    "from keras.models import Sequential, load_model\n",
    "from keras.layers.core import Dense, Activation\n",
    "\n",
    "model_0 = Sequential()\n",
    "\n",
    "model_0.add(Dense(512, input_shape=(784,)))\n",
    "model_0.add(Activation('sigmoid'))                            \n",
    "\n",
    "model_0.add(Dense(10))\n",
    "model_0.add(Activation('softmax'))"
   ]
  },
  {
   "cell_type": "code",
   "execution_count": 8,
   "metadata": {},
   "outputs": [],
   "source": [
    "model_0.compile(loss='categorical_crossentropy', metrics=['accuracy'], optimizer='sgd')"
   ]
  },
  {
   "cell_type": "code",
   "execution_count": 10,
   "metadata": {},
   "outputs": [
    {
     "name": "stdout",
     "output_type": "stream",
     "text": [
      "Train on 60000 samples, validate on 10000 samples\n",
      "Epoch 1/10\n",
      " - 1s - loss: 0.4676 - accuracy: 0.8789 - val_loss: 0.4388 - val_accuracy: 0.8861\n",
      "Epoch 2/10\n",
      " - 1s - loss: 0.4511 - accuracy: 0.8819 - val_loss: 0.4236 - val_accuracy: 0.8898\n",
      "Epoch 3/10\n",
      " - 1s - loss: 0.4372 - accuracy: 0.8839 - val_loss: 0.4115 - val_accuracy: 0.8917\n",
      "Epoch 4/10\n",
      " - 1s - loss: 0.4255 - accuracy: 0.8859 - val_loss: 0.4010 - val_accuracy: 0.8938\n",
      "Epoch 5/10\n",
      " - 1s - loss: 0.4151 - accuracy: 0.8877 - val_loss: 0.3915 - val_accuracy: 0.8953\n",
      "Epoch 6/10\n",
      " - 1s - loss: 0.4062 - accuracy: 0.8894 - val_loss: 0.3833 - val_accuracy: 0.8974\n",
      "Epoch 7/10\n",
      " - 1s - loss: 0.3982 - accuracy: 0.8910 - val_loss: 0.3770 - val_accuracy: 0.8956\n",
      "Epoch 8/10\n",
      " - 1s - loss: 0.3913 - accuracy: 0.8923 - val_loss: 0.3701 - val_accuracy: 0.8972\n",
      "Epoch 9/10\n",
      " - 1s - loss: 0.3850 - accuracy: 0.8935 - val_loss: 0.3644 - val_accuracy: 0.8996\n",
      "Epoch 10/10\n",
      " - 1s - loss: 0.3792 - accuracy: 0.8942 - val_loss: 0.3586 - val_accuracy: 0.9005\n"
     ]
    },
    {
     "data": {
      "text/plain": [
       "<keras.callbacks.callbacks.History at 0x7fc4a0516198>"
      ]
     },
     "execution_count": 10,
     "metadata": {},
     "output_type": "execute_result"
    }
   ],
   "source": [
    "model_0.fit(X_flat_train, y_encoded_train,\n",
    "          batch_size=128, epochs=10,\n",
    "          verbose=2,\n",
    "          validation_data=(X_flat_test, y_encoded_test))"
   ]
  },
  {
   "cell_type": "markdown",
   "metadata": {},
   "source": [
    "building a linear stack of densely connected layers with the sequential model from keras"
   ]
  },
  {
   "cell_type": "markdown",
   "metadata": {},
   "source": [
    "![](nn_example.png)"
   ]
  },
  {
   "cell_type": "code",
   "execution_count": 22,
   "metadata": {},
   "outputs": [],
   "source": [
    "model = Sequential()\n",
    "\n",
    "# new layer: 512 - number of nodes, 784 number of inputs to start with\n",
    "model.add(Dense(512, input_shape=(784,)))\n",
    "model.add(Activation('relu'))                            \n",
    "\n",
    "# new layer: 512 - number of nodes\n",
    "model.add(Dense(512))\n",
    "model.add(Activation('relu'))\n",
    "\n",
    "model.add(Dense(10))\n",
    "model.add(Activation('softmax'))"
   ]
  },
  {
   "cell_type": "code",
   "execution_count": 23,
   "metadata": {},
   "outputs": [],
   "source": [
    "# compiling the sequential model\n",
    "model.compile(loss='categorical_crossentropy', metrics=['accuracy'], optimizer='adam')"
   ]
  },
  {
   "cell_type": "code",
   "execution_count": 24,
   "metadata": {},
   "outputs": [
    {
     "name": "stdout",
     "output_type": "stream",
     "text": [
      "Train on 60000 samples, validate on 10000 samples\n",
      "Epoch 1/10\n",
      " - 5s - loss: 0.2167 - accuracy: 0.9362 - val_loss: 0.1004 - val_accuracy: 0.9688\n",
      "Epoch 2/10\n",
      " - 5s - loss: 0.0784 - accuracy: 0.9758 - val_loss: 0.0818 - val_accuracy: 0.9737\n",
      "Epoch 3/10\n",
      " - 5s - loss: 0.0497 - accuracy: 0.9844 - val_loss: 0.0646 - val_accuracy: 0.9794\n",
      "Epoch 4/10\n",
      " - 4s - loss: 0.0343 - accuracy: 0.9891 - val_loss: 0.0756 - val_accuracy: 0.9771\n",
      "Epoch 5/10\n",
      " - 5s - loss: 0.0282 - accuracy: 0.9908 - val_loss: 0.0736 - val_accuracy: 0.9796\n",
      "Epoch 6/10\n",
      " - 5s - loss: 0.0230 - accuracy: 0.9925 - val_loss: 0.0919 - val_accuracy: 0.9767\n",
      "Epoch 7/10\n",
      " - 5s - loss: 0.0183 - accuracy: 0.9938 - val_loss: 0.0638 - val_accuracy: 0.9821\n",
      "Epoch 8/10\n",
      " - 5s - loss: 0.0154 - accuracy: 0.9946 - val_loss: 0.0828 - val_accuracy: 0.9797\n",
      "Epoch 9/10\n",
      " - 4s - loss: 0.0138 - accuracy: 0.9953 - val_loss: 0.0866 - val_accuracy: 0.9795\n",
      "Epoch 10/10\n",
      " - 5s - loss: 0.0158 - accuracy: 0.9946 - val_loss: 0.0950 - val_accuracy: 0.9767\n"
     ]
    },
    {
     "data": {
      "text/plain": [
       "<keras.callbacks.callbacks.History at 0x7fc4b0629358>"
      ]
     },
     "execution_count": 24,
     "metadata": {},
     "output_type": "execute_result"
    }
   ],
   "source": [
    "model.fit(X_flat_train, y_encoded_train,\n",
    "          batch_size=128, epochs=10,\n",
    "          verbose=2,\n",
    "          validation_data=(X_flat_test, y_encoded_test))"
   ]
  },
  {
   "cell_type": "markdown",
   "metadata": {},
   "source": [
    "Compute model accuracy on the 10,000 testing examples "
   ]
  },
  {
   "cell_type": "code",
   "execution_count": 25,
   "metadata": {},
   "outputs": [
    {
     "name": "stdout",
     "output_type": "stream",
     "text": [
      "Test Loss 0.09495859274556824\n",
      "Test Accuracy 0.9767000079154968\n"
     ]
    }
   ],
   "source": [
    "loss_and_metrics = model.evaluate(X_flat_test, y_encoded_test, verbose=2)\n",
    "\n",
    "print(\"Test Loss\", loss_and_metrics[0])\n",
    "print(\"Test Accuracy\", loss_and_metrics[1])"
   ]
  },
  {
   "cell_type": "markdown",
   "metadata": {},
   "source": [
    "To save a trained model: we save its structure and its weights."
   ]
  },
  {
   "cell_type": "code",
   "execution_count": 31,
   "metadata": {},
   "outputs": [],
   "source": [
    "open('mnist_simple_ann_model_structure.json', 'w').write(model.to_json())\n",
    "model.save_weights('mnist_simple_ann_model_weights.h5')\n",
    "#model.save('mnist_simple_ann.h5')"
   ]
  },
  {
   "cell_type": "markdown",
   "metadata": {},
   "source": [
    "Load saved model"
   ]
  },
  {
   "cell_type": "code",
   "execution_count": 33,
   "metadata": {},
   "outputs": [],
   "source": [
    "from keras.models import model_from_json\n",
    "model = model_from_json(open('mnist_simple_ann_model_structure.json').read())\n",
    "model.load_weights('mnist_simple_ann_model_weights.h5')\n",
    "#new_model = load_model('mnist_simple_ann.h5')"
   ]
  },
  {
   "cell_type": "code",
   "execution_count": null,
   "metadata": {},
   "outputs": [],
   "source": []
  }
 ],
 "metadata": {
  "kernelspec": {
   "display_name": "Python 3",
   "language": "python",
   "name": "python3"
  },
  "language_info": {
   "codemirror_mode": {
    "name": "ipython",
    "version": 3
   },
   "file_extension": ".py",
   "mimetype": "text/x-python",
   "name": "python",
   "nbconvert_exporter": "python",
   "pygments_lexer": "ipython3",
   "version": "3.7.3"
  }
 },
 "nbformat": 4,
 "nbformat_minor": 4
}
