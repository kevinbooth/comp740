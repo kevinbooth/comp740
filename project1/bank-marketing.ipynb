{
 "cells": [
  {
   "cell_type": "markdown",
   "metadata": {},
   "source": [
    "# Bank Marketing Predictions"
   ]
  },
  {
   "cell_type": "markdown",
   "metadata": {},
   "source": [
    "Dataset retrieved from [Kaggle](https://www.kaggle.com/henriqueyamahata/bank-marketing)"
   ]
  },
  {
   "cell_type": "markdown",
   "metadata": {},
   "source": [
    "This dataset is filled with outcomes of marketing campaign phone calls from a Portuguese banking institution. Each phone call has a target to get the customer to subscribe to a bank term deposit. This is what we will be training the model to predict."
   ]
  },
  {
   "cell_type": "markdown",
   "metadata": {},
   "source": [
    "The large issue with this dataset is that there is a lot of categorical features that need to be encoded."
   ]
  },
  {
   "cell_type": "code",
   "execution_count": null,
   "metadata": {},
   "outputs": [],
   "source": [
    "import pandas as pd\n",
    "from pandas import Series,DataFrame\n",
    "import matplotlib.pyplot as plt\n",
    "\n",
    "# numpy, matplotlib, seaborn\n",
    "import numpy as np\n",
    "%matplotlib inline\n",
    "\n",
    "from sklearn.model_selection import cross_val_score\n",
    "from sklearn.model_selection import cross_val_predict\n",
    "from sklearn.metrics import confusion_matrix\n",
    "\n",
    "from sklearn.model_selection import GridSearchCV"
   ]
  },
  {
   "cell_type": "markdown",
   "metadata": {},
   "source": [
    "## Data Analysis"
   ]
  },
  {
   "cell_type": "markdown",
   "metadata": {},
   "source": [
    "The data is well prepared with no null values. The biggest thing that needs to be tackled is encoding of categorical features."
   ]
  },
  {
   "cell_type": "code",
   "execution_count": null,
   "metadata": {},
   "outputs": [],
   "source": [
    "data = pd.read_csv('../../bank-marketing.csv')\n",
    "data.head()"
   ]
  },
  {
   "cell_type": "code",
   "execution_count": null,
   "metadata": {},
   "outputs": [],
   "source": [
    "data.isnull().sum()"
   ]
  },
  {
   "cell_type": "markdown",
   "metadata": {},
   "source": [
    "As you can visually see, the dataset is very skewed. If the data is run through a model without being stratified, it will cause us to get improper accuracy results, as over 99% of the data is not fraudulent."
   ]
  },
  {
   "cell_type": "code",
   "execution_count": null,
   "metadata": {},
   "outputs": [],
   "source": [
    "y_class = ['Subscribed', 'Didn\\'t Subscribe']\n",
    "\n",
    "plt.bar(y_class, [np.sum(data['y'] == 'yes'), np.sum(data['y'] == 'no')], color='teal')\n",
    "plt.xlabel(\"Outcome\")\n",
    "plt.ylabel(\"Phone Calls\")\n",
    "plt.title(\"Distribution of Customers Who Did and Didn't Subscribe\")\n",
    "plt.show()"
   ]
  },
  {
   "cell_type": "markdown",
   "metadata": {},
   "source": [
    "## Data Engineering"
   ]
  },
  {
   "cell_type": "markdown",
   "metadata": {},
   "source": [
    "First, I will drop the number of emplyees feature and bin certain categorical features to try and simplify the dataset."
   ]
  },
  {
   "cell_type": "code",
   "execution_count": null,
   "metadata": {},
   "outputs": [],
   "source": [
    "data.pop('nr.employed')\n",
    "\n",
    "bin_education = {\n",
    "    \"university.degree\": \"university.degree\",\n",
    "    \"professional.course\": \"professional.course\",\n",
    "    \"high.school\": \"high.school\",\n",
    "    \"basic.9y\": \"basic\",\n",
    "    \"basic.6y\": \"basic\",\n",
    "    \"basic.4y\": \"basic\",\n",
    "    \"unknown\": \"unknown\",\n",
    "    \"illiterate\": \"unknown\"\n",
    "}\n",
    "data.education = data.education.map(bin_education)"
   ]
  },
  {
   "cell_type": "markdown",
   "metadata": {},
   "source": [
    "Now, I am applying a form of one hot encoding to categorical features"
   ]
  },
  {
   "cell_type": "code",
   "execution_count": null,
   "metadata": {},
   "outputs": [],
   "source": [
    "data = pd.get_dummies(data, columns=['job'], prefix = ['job'])\n",
    "data = pd.get_dummies(data, columns=['marital'], prefix = ['marital'])\n",
    "data = pd.get_dummies(data, columns=['education'], prefix = ['education'])\n",
    "data = pd.get_dummies(data, columns=['default'], prefix = ['default'])\n",
    "data = pd.get_dummies(data, columns=['housing'], prefix = ['housing'])\n",
    "data = pd.get_dummies(data, columns=['loan'], prefix = ['loan'])\n",
    "data = pd.get_dummies(data, columns=['contact'], prefix = ['contact'])\n",
    "data = pd.get_dummies(data, columns=['month'], prefix = ['month'])\n",
    "data = pd.get_dummies(data, columns=['day_of_week'], prefix = ['day_of_week'])\n",
    "data = pd.get_dummies(data, columns=['poutcome'], prefix = ['poutcome'])"
   ]
  },
  {
   "cell_type": "markdown",
   "metadata": {},
   "source": [
    "The number of days since last call feature has a value of 999 if the customer hasn't been called before. This can possibly create unwanted bias. Instead of setting a wild number that has an unknown purpose, 999 should be set to 0 and a new featured named 'called_before' should be created that will be a boolean value."
   ]
  },
  {
   "cell_type": "code",
   "execution_count": null,
   "metadata": {},
   "outputs": [],
   "source": [
    "data['called_before'] = data.pdays.apply(lambda row: 0 if (row == 999) else 1)\n",
    "data['pdays'] = data.pdays.apply(lambda row: 0 if (row == 999) else row)"
   ]
  },
  {
   "cell_type": "markdown",
   "metadata": {},
   "source": [
    "The target column is currently either 'yes' or 'no' strings. That can't be fed into the model, so it should be encoded to 1 or 0."
   ]
  },
  {
   "cell_type": "code",
   "execution_count": null,
   "metadata": {},
   "outputs": [],
   "source": [
    "data['y'] = data.y.apply(lambda row: 1 if (row == 'yes') else 0)"
   ]
  },
  {
   "cell_type": "code",
   "execution_count": null,
   "metadata": {},
   "outputs": [],
   "source": [
    "data.y.value_counts()"
   ]
  },
  {
   "cell_type": "markdown",
   "metadata": {},
   "source": [
    "## Create Training and Test Sets"
   ]
  },
  {
   "cell_type": "markdown",
   "metadata": {},
   "source": [
    "There are a total of 4,640 samples out of 41,188 samples where clients have subscribed to bank term deposits. To properly train the model, the training set should be stratified in half. This means that half the samples are non subscribers and half are subscribers. For our training set, I will do 3,800 non subscribers and 3,800 subscribers. That leaves us 1,680 stratified samples to test the trained model with. "
   ]
  },
  {
   "cell_type": "markdown",
   "metadata": {},
   "source": [
    "Stratify the data and assign to variables for easy management."
   ]
  },
  {
   "cell_type": "code",
   "execution_count": null,
   "metadata": {},
   "outputs": [],
   "source": [
    "X_not_sub, X_sub = data[data.y == 0], data[data.y == 1]\n",
    "y_not_sub, y_sub = X_not_sub.pop('y'), X_sub.pop('y')"
   ]
  },
  {
   "cell_type": "markdown",
   "metadata": {},
   "source": [
    "Create the training and test sets."
   ]
  },
  {
   "cell_type": "code",
   "execution_count": null,
   "metadata": {},
   "outputs": [],
   "source": [
    "X_train, y_train = X_not_sub[:3800].append(X_sub[:3800]), y_not_sub[:3800].append(y_sub[:3800])\n",
    "X_test, y_test = X_not_sub[3800:4620].append(X_sub[3800:4620]), y_not_sub[3800:4620].append(y_sub[3800:4620])"
   ]
  },
  {
   "cell_type": "markdown",
   "metadata": {},
   "source": [
    "## Train the Model"
   ]
  },
  {
   "cell_type": "code",
   "execution_count": null,
   "metadata": {},
   "outputs": [],
   "source": [
    "from sklearn.ensemble import RandomForestClassifier\n",
    "from sklearn.model_selection import GridSearchCV\n",
    "\n",
    "rnd_clf = RandomForestClassifier(random_state=42, n_estimators=100)\n",
    "\n",
    "rnd_params = [\n",
    "   { \n",
    "     'max_depth': [12, 14, 16, 18, 20, 22, 24, 26, 28], \n",
    "     'min_samples_leaf' : [1, 2, 3, 4, 5, 6],\n",
    "     'max_leaf_nodes': [4, 8, 12, 16, 20, 24, 28],\n",
    "   },\n",
    "]\n",
    "\n",
    "rnd_cv = GridSearchCV(estimator=rnd_clf, param_grid=rnd_params, cv=4)\n",
    "rnd_cv.fit(X_train, y_train)"
   ]
  }
 ],
 "metadata": {
  "kernelspec": {
   "display_name": "Python 3",
   "language": "python",
   "name": "python3"
  },
  "language_info": {
   "codemirror_mode": {
    "name": "ipython",
    "version": 3
   },
   "file_extension": ".py",
   "mimetype": "text/x-python",
   "name": "python",
   "nbconvert_exporter": "python",
   "pygments_lexer": "ipython3",
   "version": "3.7.3"
  }
 },
 "nbformat": 4,
 "nbformat_minor": 4
}
